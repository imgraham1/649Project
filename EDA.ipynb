{
 "cells": [
  {
   "cell_type": "code",
   "execution_count": 152,
   "metadata": {},
   "outputs": [],
   "source": [
    "import pandas as pd\n",
    "import matplotlib.pyplot as plt"
   ]
  },
  {
   "cell_type": "code",
   "execution_count": 137,
   "metadata": {
    "scrolled": true
   },
   "outputs": [
    {
     "data": {
      "text/html": [
       "<div>\n",
       "<style scoped>\n",
       "    .dataframe tbody tr th:only-of-type {\n",
       "        vertical-align: middle;\n",
       "    }\n",
       "\n",
       "    .dataframe tbody tr th {\n",
       "        vertical-align: top;\n",
       "    }\n",
       "\n",
       "    .dataframe thead th {\n",
       "        text-align: right;\n",
       "    }\n",
       "</style>\n",
       "<table border=\"1\" class=\"dataframe\">\n",
       "  <thead>\n",
       "    <tr style=\"text-align: right;\">\n",
       "      <th></th>\n",
       "      <th>id</th>\n",
       "      <th>name</th>\n",
       "      <th>summary</th>\n",
       "      <th>space</th>\n",
       "      <th>description</th>\n",
       "      <th>experiences_offered</th>\n",
       "      <th>neighborhood_overview</th>\n",
       "      <th>notes</th>\n",
       "      <th>transit</th>\n",
       "      <th>access</th>\n",
       "      <th>...</th>\n",
       "      <th>review_scores_cleanliness</th>\n",
       "      <th>review_scores_checkin</th>\n",
       "      <th>review_scores_communication</th>\n",
       "      <th>review_scores_location</th>\n",
       "      <th>review_scores_value</th>\n",
       "      <th>is_business_travel_ready</th>\n",
       "      <th>cancellation_policy</th>\n",
       "      <th>require_guest_profile_picture</th>\n",
       "      <th>require_guest_phone_verification</th>\n",
       "      <th>reviews_per_month</th>\n",
       "    </tr>\n",
       "  </thead>\n",
       "  <tbody>\n",
       "    <tr>\n",
       "      <td>0</td>\n",
       "      <td>2595</td>\n",
       "      <td>Skylit Midtown Castle</td>\n",
       "      <td>Beautiful, spacious skylit studio in the heart...</td>\n",
       "      <td>- Spacious (500+ft²), immaculate and nicely fu...</td>\n",
       "      <td>Beautiful, spacious skylit studio in the heart...</td>\n",
       "      <td>none</td>\n",
       "      <td>Centrally located in the heart of Manhattan ju...</td>\n",
       "      <td>NaN</td>\n",
       "      <td>Apartment is located on 37th Street between 5t...</td>\n",
       "      <td>Guests have full access to the kitchen, bathro...</td>\n",
       "      <td>...</td>\n",
       "      <td>9.0</td>\n",
       "      <td>10.0</td>\n",
       "      <td>10.0</td>\n",
       "      <td>10.0</td>\n",
       "      <td>9.0</td>\n",
       "      <td>f</td>\n",
       "      <td>strict_14_with_grace_period</td>\n",
       "      <td>t</td>\n",
       "      <td>t</td>\n",
       "      <td>0.39</td>\n",
       "    </tr>\n",
       "    <tr>\n",
       "      <td>1</td>\n",
       "      <td>3831</td>\n",
       "      <td>Cozy Entire Floor of Brownstone</td>\n",
       "      <td>Urban retreat: enjoy 500 s.f. floor in 1899 br...</td>\n",
       "      <td>Greetings!      We own a double-duplex brownst...</td>\n",
       "      <td>Urban retreat: enjoy 500 s.f. floor in 1899 br...</td>\n",
       "      <td>none</td>\n",
       "      <td>Just the right mix of urban center and local n...</td>\n",
       "      <td>NaN</td>\n",
       "      <td>B52 bus for a 10-minute ride to downtown Brook...</td>\n",
       "      <td>You will have the private, exclusive use of an...</td>\n",
       "      <td>...</td>\n",
       "      <td>9.0</td>\n",
       "      <td>10.0</td>\n",
       "      <td>9.0</td>\n",
       "      <td>10.0</td>\n",
       "      <td>9.0</td>\n",
       "      <td>f</td>\n",
       "      <td>moderate</td>\n",
       "      <td>f</td>\n",
       "      <td>f</td>\n",
       "      <td>4.69</td>\n",
       "    </tr>\n",
       "    <tr>\n",
       "      <td>2</td>\n",
       "      <td>5099</td>\n",
       "      <td>Large Cozy 1 BR Apartment In Midtown East</td>\n",
       "      <td>My large 1 bedroom apartment has a true New Yo...</td>\n",
       "      <td>I have a large 1 bedroom apartment centrally l...</td>\n",
       "      <td>My large 1 bedroom apartment has a true New Yo...</td>\n",
       "      <td>none</td>\n",
       "      <td>My neighborhood in Midtown East is called Murr...</td>\n",
       "      <td>Read My Full Listing For All Information. New ...</td>\n",
       "      <td>From the apartment is a 10 minute walk to Gran...</td>\n",
       "      <td>I will meet you upon arrival.</td>\n",
       "      <td>...</td>\n",
       "      <td>9.0</td>\n",
       "      <td>10.0</td>\n",
       "      <td>10.0</td>\n",
       "      <td>10.0</td>\n",
       "      <td>9.0</td>\n",
       "      <td>f</td>\n",
       "      <td>moderate</td>\n",
       "      <td>t</td>\n",
       "      <td>t</td>\n",
       "      <td>0.59</td>\n",
       "    </tr>\n",
       "  </tbody>\n",
       "</table>\n",
       "<p>3 rows × 63 columns</p>\n",
       "</div>"
      ],
      "text/plain": [
       "     id                                       name  \\\n",
       "0  2595                      Skylit Midtown Castle   \n",
       "1  3831            Cozy Entire Floor of Brownstone   \n",
       "2  5099  Large Cozy 1 BR Apartment In Midtown East   \n",
       "\n",
       "                                             summary  \\\n",
       "0  Beautiful, spacious skylit studio in the heart...   \n",
       "1  Urban retreat: enjoy 500 s.f. floor in 1899 br...   \n",
       "2  My large 1 bedroom apartment has a true New Yo...   \n",
       "\n",
       "                                               space  \\\n",
       "0  - Spacious (500+ft²), immaculate and nicely fu...   \n",
       "1  Greetings!      We own a double-duplex brownst...   \n",
       "2  I have a large 1 bedroom apartment centrally l...   \n",
       "\n",
       "                                         description experiences_offered  \\\n",
       "0  Beautiful, spacious skylit studio in the heart...                none   \n",
       "1  Urban retreat: enjoy 500 s.f. floor in 1899 br...                none   \n",
       "2  My large 1 bedroom apartment has a true New Yo...                none   \n",
       "\n",
       "                               neighborhood_overview  \\\n",
       "0  Centrally located in the heart of Manhattan ju...   \n",
       "1  Just the right mix of urban center and local n...   \n",
       "2  My neighborhood in Midtown East is called Murr...   \n",
       "\n",
       "                                               notes  \\\n",
       "0                                                NaN   \n",
       "1                                                NaN   \n",
       "2  Read My Full Listing For All Information. New ...   \n",
       "\n",
       "                                             transit  \\\n",
       "0  Apartment is located on 37th Street between 5t...   \n",
       "1  B52 bus for a 10-minute ride to downtown Brook...   \n",
       "2  From the apartment is a 10 minute walk to Gran...   \n",
       "\n",
       "                                              access  ...  \\\n",
       "0  Guests have full access to the kitchen, bathro...  ...   \n",
       "1  You will have the private, exclusive use of an...  ...   \n",
       "2                      I will meet you upon arrival.  ...   \n",
       "\n",
       "  review_scores_cleanliness review_scores_checkin  \\\n",
       "0                       9.0                  10.0   \n",
       "1                       9.0                  10.0   \n",
       "2                       9.0                  10.0   \n",
       "\n",
       "   review_scores_communication review_scores_location review_scores_value  \\\n",
       "0                         10.0                   10.0                 9.0   \n",
       "1                          9.0                   10.0                 9.0   \n",
       "2                         10.0                   10.0                 9.0   \n",
       "\n",
       "  is_business_travel_ready          cancellation_policy  \\\n",
       "0                        f  strict_14_with_grace_period   \n",
       "1                        f                     moderate   \n",
       "2                        f                     moderate   \n",
       "\n",
       "  require_guest_profile_picture require_guest_phone_verification  \\\n",
       "0                             t                                t   \n",
       "1                             f                                f   \n",
       "2                             t                                t   \n",
       "\n",
       "  reviews_per_month  \n",
       "0              0.39  \n",
       "1              4.69  \n",
       "2              0.59  \n",
       "\n",
       "[3 rows x 63 columns]"
      ]
     },
     "execution_count": 137,
     "metadata": {},
     "output_type": "execute_result"
    }
   ],
   "source": [
    "airbnb = pd.read_csv('airbnb.csv', low_memory=False)\n",
    "airbnb['host_since'] = pd.to_datetime(airbnb['host_since'])\n",
    "airbnb['first_review'] = pd.to_datetime(airbnb['first_review'])\n",
    "airbnb['last_review'] = pd.to_datetime(airbnb['last_review'])\n",
    "airbnb.head(3)"
   ]
  },
  {
   "cell_type": "markdown",
   "metadata": {},
   "source": [
    "## Description of AirBnB data\n",
    "- id: Listing ID, should be unique \n",
    "- name: Name of the listing\n",
    "- summary: Summary of the listing\n",
    "- space: Description of space on posting\n",
    "- description: Description of listing \n",
    "- experiences_offered: Whether or not experiences are offered with the listing\n",
    "- neighborhood_overview: Description of neighborhood listing is in\n",
    "- notes: Additional notes on thee listing\n",
    "- transit: Transit services near the listing\n",
    "- access: Where the guest will have access to in the listing\n",
    "- interaction: Host interaction description\n",
    "- house_rules: Description of house rules\n",
    "- host_id: ID of the host for thee listing\n",
    "- host_name: Name of the host/hosts\n",
    "- host_since: When they first started renting out rooms/apartment, Dates in the format YYYY-MM-DD\n",
    "- host_about: Description off the host\n",
    "- host_response_time: Time it takes host to respond to queries about listing\n",
    "- host_response_rate: Host rate of response\n",
    "- host_acceptance_rate: Host’s acceptance rate of offer\n",
    "- host_is_superhost: t/f if host is a superhost\n",
    "- host_neighborhood: Neighborhood that the host lives in I think\n",
    "- host_total_listing_count: Total number of listings the host has\n",
    "- host_ideentity_verified: t/f if host has verified identity\n",
    "- neighbourhood: neighborhood of the listing\n",
    "- neighbourhood_cleansed: More specific neighborhood I think\n",
    "- neighbourhood_group_cleansed: Borough I think\n",
    "- city: City of listing\n",
    "- state: State of listing\n",
    "- smart_location: Also borough I think\n",
    "- latitude: Latitude of listing\n",
    "- longitude: Longitude of listing\n",
    "- property_type: Building type of listing\n",
    "- room_type: Type of the room up for rent\n",
    "- bathrooms: Number of bathrooms available in listing\n",
    "- bedrooms: Number of bedrooms available in listing\n",
    "- beds: Number of beds in available in listing\n",
    "- bed_type: Type of bed in the listing\n",
    "- square_feet: sqft of the listing\n",
    "- price: How much the listing is\n",
    "- weekly_price: How much it is to rent for a week\n",
    "- monthly_price: how much it is to rent for a month\n",
    "- security_deeposit: Security deposit for listing I think\n",
    "- cleaning_fee: Claning fee of the listing\n",
    "- guests_included: How many guests are included for the listing\n",
    "- extra_people: Cost of adding extra people to the listing\n",
    "- minimum_nights: Minimum nights you have to rent for\n",
    "- maximum_nights: Maximum time you can rent for\n",
    "- number_of_reviews: However many reviews thee listing has\n",
    "- number_of_reviews_ltm: Not sure\n",
    "- first_review: Date of the first review, Dates in the format YYYY-MM-DD\n",
    "- last_review: Date of the last review, Dates in the format YYYY-MM-DD\n",
    "- review_scores_rating: Total rating for thee listing\n",
    "- review_scores_accuracy: Score of the accuracy?\n",
    "- review_scores_cleanliness: Review of cleanliness of listing\n",
    "- review_scores_checkin: Review of checkin process\n",
    "- review_scores_communication: Review of communication of listing owner\n",
    "- review_scores_location: Review of the location of the listing\n",
    "- review_scores_value: Review of value\n",
    "- is_business_travel_ready: t/f if rental is ready for business travelers?\n",
    "- cancellation_policy: Cancellation policy of the listing\n",
    "- require_guest_profile_picture: t/f if the guest needs to have a profile pic\n",
    "- require_guest_phone_verification: t/f if the guest needs to verify on phone\n",
    "- reviews_per_month: Average number of reviews per month"
   ]
  },
  {
   "cell_type": "code",
   "execution_count": 141,
   "metadata": {},
   "outputs": [
    {
     "name": "stdout",
     "output_type": "stream",
     "text": [
      "First AirBnB listing: 2008-08-22 00:00:00\n",
      "Latest AirBnB listing: 2020-02-11 00:00:00\n"
     ]
    }
   ],
   "source": [
    "print(\"First AirBnB listing: \" + str(min(airbnb['host_since'])))\n",
    "print(\"Latest AirBnB listing: \" + str(max(airbnb['host_since'])))"
   ]
  },
  {
   "cell_type": "code",
   "execution_count": 148,
   "metadata": {
    "scrolled": false
   },
   "outputs": [
    {
     "data": {
      "text/plain": [
       "<matplotlib.axes._subplots.AxesSubplot at 0x141d7f090>"
      ]
     },
     "execution_count": 148,
     "metadata": {},
     "output_type": "execute_result"
    },
    {
     "data": {
      "image/png": "[encoded data removed]",
      "text/plain": [
       "<Figure size 1008x576 with 1 Axes>"
      ]
     },
     "metadata": {
      "needs_background": "light"
     },
     "output_type": "display_data"
    }
   ],
   "source": [
    "airbnb['neighbourhood_group_cleansed'].value_counts().plot(kind='bar', \n",
    "                                                                figsize=(14,8),\n",
    "                                                                title=\"Number of AirBnB Listings per Borough\")"
   ]
  },
  {
   "cell_type": "code",
   "execution_count": 132,
   "metadata": {},
   "outputs": [],
   "source": [
    "# Processing rent data\n",
    "\n",
    "rent = pd.read_csv(\"medianAskingRent_All.csv\")\n",
    "rent = rent.groupby('Borough').mean().reset_index()\n",
    "rent.set_index('Borough',inplace=True)\n",
    "rent = rent.transpose()\n",
    "dates = list(rent.index)\n",
    "rent['Dates'] = dates\n",
    "rent.reset_index(inplace = True) \n",
    "rent = rent.rename_axis(index=None, columns=None)\n",
    "del rent['index']\n",
    "rent['Dates'] = pd.to_datetime(rent['Dates'])\n",
    "\n",
    "discount = pd.read_csv(\"discountShare_All.csv\")\n",
    "discount = discount.groupby('Borough').mean().reset_index()\n",
    "discount.set_index('Borough',inplace=True)\n",
    "discount = discount.transpose()\n",
    "dates = list(discount.index)\n",
    "discount['Dates'] = dates\n",
    "discount.reset_index(inplace = True) \n",
    "discount = discount.rename_axis(index=None, columns=None)\n",
    "del discount['index']\n",
    "discount['Dates'] = pd.to_datetime(discount['Dates'])\n",
    "\n",
    "inventory = pd.read_csv(\"rentalInventory_All.csv\")\n",
    "inventory = inventory.groupby('Borough').mean().reset_index()\n",
    "inventory.set_index('Borough',inplace=True)\n",
    "inventory = inventory.transpose()\n",
    "dates = list(inventory.index)\n",
    "inventory['Dates'] = dates\n",
    "inventory.reset_index(inplace = True) \n",
    "inventory = inventory.rename_axis(index=None, columns=None)\n",
    "del inventory['index']\n",
    "inventory['Dates'] = pd.to_datetime(inventory['Dates'])"
   ]
  },
  {
   "cell_type": "markdown",
   "metadata": {},
   "source": [
    "## Rent data\n",
    "The rent df shows the average of median rent prices across all neighborhoods in each borough, Dates in the format YYYY-MM-DD"
   ]
  },
  {
   "cell_type": "code",
   "execution_count": 133,
   "metadata": {
    "scrolled": false
   },
   "outputs": [
    {
     "data": {
      "text/html": [
       "<div>\n",
       "<style scoped>\n",
       "    .dataframe tbody tr th:only-of-type {\n",
       "        vertical-align: middle;\n",
       "    }\n",
       "\n",
       "    .dataframe tbody tr th {\n",
       "        vertical-align: top;\n",
       "    }\n",
       "\n",
       "    .dataframe thead th {\n",
       "        text-align: right;\n",
       "    }\n",
       "</style>\n",
       "<table border=\"1\" class=\"dataframe\">\n",
       "  <thead>\n",
       "    <tr style=\"text-align: right;\">\n",
       "      <th></th>\n",
       "      <th>Bronx</th>\n",
       "      <th>Brooklyn</th>\n",
       "      <th>Manhattan</th>\n",
       "      <th>Queens</th>\n",
       "      <th>Staten Island</th>\n",
       "      <th>Dates</th>\n",
       "    </tr>\n",
       "  </thead>\n",
       "  <tbody>\n",
       "    <tr>\n",
       "      <td>0</td>\n",
       "      <td>1421.00</td>\n",
       "      <td>2019.424242</td>\n",
       "      <td>3003.794118</td>\n",
       "      <td>1598.8125</td>\n",
       "      <td>NaN</td>\n",
       "      <td>2010-01-01</td>\n",
       "    </tr>\n",
       "    <tr>\n",
       "      <td>1</td>\n",
       "      <td>1410.75</td>\n",
       "      <td>1973.794118</td>\n",
       "      <td>2982.500000</td>\n",
       "      <td>1558.5000</td>\n",
       "      <td>NaN</td>\n",
       "      <td>2010-02-01</td>\n",
       "    </tr>\n",
       "    <tr>\n",
       "      <td>2</td>\n",
       "      <td>1402.00</td>\n",
       "      <td>1974.677419</td>\n",
       "      <td>2884.142857</td>\n",
       "      <td>1587.2500</td>\n",
       "      <td>NaN</td>\n",
       "      <td>2010-03-01</td>\n",
       "    </tr>\n",
       "  </tbody>\n",
       "</table>\n",
       "</div>"
      ],
      "text/plain": [
       "     Bronx     Brooklyn    Manhattan     Queens  Staten Island      Dates\n",
       "0  1421.00  2019.424242  3003.794118  1598.8125            NaN 2010-01-01\n",
       "1  1410.75  1973.794118  2982.500000  1558.5000            NaN 2010-02-01\n",
       "2  1402.00  1974.677419  2884.142857  1587.2500            NaN 2010-03-01"
      ]
     },
     "execution_count": 133,
     "metadata": {},
     "output_type": "execute_result"
    }
   ],
   "source": [
    "rent.head(3)"
   ]
  },
  {
   "cell_type": "code",
   "execution_count": 166,
   "metadata": {},
   "outputs": [
    {
     "data": {
      "text/plain": [
       "Text(0.5, 0.98, 'Average Median Rent in Manhattan')"
      ]
     },
     "execution_count": 166,
     "metadata": {},
     "output_type": "execute_result"
    },
    {
     "data": {
      "image/png": "[encoded data removed]",
      "text/plain": [
       "<Figure size 432x288 with 1 Axes>"
      ]
     },
     "metadata": {
      "needs_background": "light"
     },
     "output_type": "display_data"
    }
   ],
   "source": [
    "fig = plt.figure()\n",
    "plt.plot(rent['Dates'], rent['Manhattan'])\n",
    "fig.suptitle('Average Median Rent in Manhattan', fontsize=20)"
   ]
  },
  {
   "cell_type": "markdown",
   "metadata": {},
   "source": [
    "## Discount data\n",
    "The discount df is the average of the share of all active rental listings on StreetEasy that had a reduction in asking rent during that month/quarter/year. Dates in the format YYYY-MM-DD"
   ]
  },
  {
   "cell_type": "code",
   "execution_count": 134,
   "metadata": {
    "scrolled": true
   },
   "outputs": [
    {
     "data": {
      "text/html": [
       "<div>\n",
       "<style scoped>\n",
       "    .dataframe tbody tr th:only-of-type {\n",
       "        vertical-align: middle;\n",
       "    }\n",
       "\n",
       "    .dataframe tbody tr th {\n",
       "        vertical-align: top;\n",
       "    }\n",
       "\n",
       "    .dataframe thead th {\n",
       "        text-align: right;\n",
       "    }\n",
       "</style>\n",
       "<table border=\"1\" class=\"dataframe\">\n",
       "  <thead>\n",
       "    <tr style=\"text-align: right;\">\n",
       "      <th></th>\n",
       "      <th>Bronx</th>\n",
       "      <th>Brooklyn</th>\n",
       "      <th>Manhattan</th>\n",
       "      <th>Queens</th>\n",
       "      <th>Staten Island</th>\n",
       "      <th>Dates</th>\n",
       "    </tr>\n",
       "  </thead>\n",
       "  <tbody>\n",
       "    <tr>\n",
       "      <td>0</td>\n",
       "      <td>0.03550</td>\n",
       "      <td>0.096174</td>\n",
       "      <td>0.106194</td>\n",
       "      <td>0.049455</td>\n",
       "      <td>NaN</td>\n",
       "      <td>2010-01-01</td>\n",
       "    </tr>\n",
       "    <tr>\n",
       "      <td>1</td>\n",
       "      <td>0.03350</td>\n",
       "      <td>0.087400</td>\n",
       "      <td>0.091030</td>\n",
       "      <td>0.068909</td>\n",
       "      <td>NaN</td>\n",
       "      <td>2010-02-01</td>\n",
       "    </tr>\n",
       "    <tr>\n",
       "      <td>2</td>\n",
       "      <td>0.01425</td>\n",
       "      <td>0.114360</td>\n",
       "      <td>0.098886</td>\n",
       "      <td>0.082800</td>\n",
       "      <td>NaN</td>\n",
       "      <td>2010-03-01</td>\n",
       "    </tr>\n",
       "  </tbody>\n",
       "</table>\n",
       "</div>"
      ],
      "text/plain": [
       "     Bronx  Brooklyn  Manhattan    Queens  Staten Island      Dates\n",
       "0  0.03550  0.096174   0.106194  0.049455            NaN 2010-01-01\n",
       "1  0.03350  0.087400   0.091030  0.068909            NaN 2010-02-01\n",
       "2  0.01425  0.114360   0.098886  0.082800            NaN 2010-03-01"
      ]
     },
     "execution_count": 134,
     "metadata": {},
     "output_type": "execute_result"
    }
   ],
   "source": [
    "discount.head(3)"
   ]
  },
  {
   "cell_type": "code",
   "execution_count": 169,
   "metadata": {},
   "outputs": [
    {
     "data": {
      "text/plain": [
       "Text(0.5, 0.98, 'Average % of Rent Prices that were Discounted in Manhattan')"
      ]
     },
     "execution_count": 169,
     "metadata": {},
     "output_type": "execute_result"
    },
    {
     "data": {
      "image/png": "[encoded data removed]",
      "text/plain": [
       "<Figure size 432x288 with 1 Axes>"
      ]
     },
     "metadata": {
      "needs_background": "light"
     },
     "output_type": "display_data"
    }
   ],
   "source": [
    "fig = plt.figure()\n",
    "plt.plot(discount['Dates'], discount['Manhattan'])\n",
    "fig.suptitle('Average % of Rent Prices that were Discounted in Manhattan', fontsize=20)"
   ]
  },
  {
   "cell_type": "markdown",
   "metadata": {},
   "source": [
    "## Inventory data\n",
    "The inventory df is the average number of active rental listings across each borough, Dates in the format YYYY-MM-DD"
   ]
  },
  {
   "cell_type": "code",
   "execution_count": 135,
   "metadata": {
    "scrolled": true
   },
   "outputs": [
    {
     "data": {
      "text/html": [
       "<div>\n",
       "<style scoped>\n",
       "    .dataframe tbody tr th:only-of-type {\n",
       "        vertical-align: middle;\n",
       "    }\n",
       "\n",
       "    .dataframe tbody tr th {\n",
       "        vertical-align: top;\n",
       "    }\n",
       "\n",
       "    .dataframe thead th {\n",
       "        text-align: right;\n",
       "    }\n",
       "</style>\n",
       "<table border=\"1\" class=\"dataframe\">\n",
       "  <thead>\n",
       "    <tr style=\"text-align: right;\">\n",
       "      <th></th>\n",
       "      <th>Bronx</th>\n",
       "      <th>Brooklyn</th>\n",
       "      <th>Manhattan</th>\n",
       "      <th>Queens</th>\n",
       "      <th>Staten Island</th>\n",
       "      <th>Dates</th>\n",
       "    </tr>\n",
       "  </thead>\n",
       "  <tbody>\n",
       "    <tr>\n",
       "      <td>0</td>\n",
       "      <td>397.465116</td>\n",
       "      <td>60.345455</td>\n",
       "      <td>879.315789</td>\n",
       "      <td>132.083333</td>\n",
       "      <td>10.0</td>\n",
       "      <td>2010-01-01</td>\n",
       "    </tr>\n",
       "    <tr>\n",
       "      <td>1</td>\n",
       "      <td>409.348837</td>\n",
       "      <td>61.054545</td>\n",
       "      <td>915.921053</td>\n",
       "      <td>135.683333</td>\n",
       "      <td>9.0</td>\n",
       "      <td>2010-02-01</td>\n",
       "    </tr>\n",
       "    <tr>\n",
       "      <td>2</td>\n",
       "      <td>415.325581</td>\n",
       "      <td>62.909091</td>\n",
       "      <td>931.263158</td>\n",
       "      <td>137.500000</td>\n",
       "      <td>10.0</td>\n",
       "      <td>2010-03-01</td>\n",
       "    </tr>\n",
       "  </tbody>\n",
       "</table>\n",
       "</div>"
      ],
      "text/plain": [
       "        Bronx   Brooklyn   Manhattan      Queens  Staten Island      Dates\n",
       "0  397.465116  60.345455  879.315789  132.083333           10.0 2010-01-01\n",
       "1  409.348837  61.054545  915.921053  135.683333            9.0 2010-02-01\n",
       "2  415.325581  62.909091  931.263158  137.500000           10.0 2010-03-01"
      ]
     },
     "execution_count": 135,
     "metadata": {},
     "output_type": "execute_result"
    }
   ],
   "source": [
    "inventory.head(3)"
   ]
  },
  {
   "cell_type": "code",
   "execution_count": 171,
   "metadata": {},
   "outputs": [
    {
     "data": {
      "text/plain": [
       "Text(0.5, 0.98, 'Average Number of Listings in Manhattan')"
      ]
     },
     "execution_count": 171,
     "metadata": {},
     "output_type": "execute_result"
    },
    {
     "data": {
      "image/png": "[encoded data removed]",
      "text/plain": [
       "<Figure size 432x288 with 1 Axes>"
      ]
     },
     "metadata": {
      "needs_background": "light"
     },
     "output_type": "display_data"
    }
   ],
   "source": [
    "fig = plt.figure()\n",
    "plt.plot(inventory['Dates'], inventory['Manhattan'])\n",
    "fig.suptitle('Average Number of Listings in Manhattan', fontsize=20)"
   ]
  }
 ],
 "metadata": {
  "kernelspec": {
   "display_name": "Python 3",
   "language": "python",
   "name": "python3"
  },
  "language_info": {
   "codemirror_mode": {
    "name": "ipython",
    "version": 3
   },
   "file_extension": ".py",
   "mimetype": "text/x-python",
   "name": "python",
   "nbconvert_exporter": "python",
   "pygments_lexer": "ipython3",
   "version": "3.7.4"
  }
 },
 "nbformat": 4,
 "nbformat_minor": 2
}
